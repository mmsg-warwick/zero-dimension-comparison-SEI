{
 "cells": [
  {
   "cell_type": "markdown",
   "metadata": {},
   "source": [
    "This notebook is a comparison of voltage profiles over time for DFN (Doyle-Fuller-Newman), SPMe (Single Particle with Electrolyte), SPM (Single Particle), and RM (Reservoir Model, uniform diffusion) models during the first full cycle. This is equivalent to Figure 2 in the manuscript."
   ]
  },
  {
   "cell_type": "code",
   "execution_count": 5,
   "metadata": {},
   "outputs": [],
   "source": [
    "import numpy as np\n",
    "import pybamm\n",
    "\n",
    "no_cycles = 1\n",
    "exp = pybamm.Experiment(\n",
    "    [(\"Charge at C/20 until 4.2 V\",\n",
    "      \"Rest for 5 hours\",\n",
    "      \"Discharge at C/20 until 2.5 V\",\n",
    "      \"Rest for 5 hours\",\n",
    "      )]* no_cycles )\n",
    "\n",
    "param=pybamm.ParameterValues(\"Chen2020\")\n",
    "\n",
    "models = [pybamm.lithium_ion.SPM({\"particle\": \"uniform profile\"}),\n",
    "          pybamm.lithium_ion.SPM(),\n",
    "          pybamm.lithium_ion.SPMe(),\n",
    "          pybamm.lithium_ion.DFN(),\n",
    "          ]\n",
    "models_name = [\"RM\", \"SPM\", \"SPMe\", \"DFN\"]\n",
    "\n",
    "sims = [pybamm.Simulation(model, parameter_values=param,\n",
    "                          experiment=exp) for model in models]\n",
    "sols = [sim.solve(initial_soc=0) for sim in sims]"
   ]
  },
  {
   "cell_type": "code",
   "execution_count": null,
   "metadata": {},
   "outputs": [],
   "source": [
    "import matplotlib.pyplot as plt\n",
    "from matplotlib import ticker\n",
    "import scienceplots\n",
    "from style_figs import set_plotting_format\n",
    "\n",
    "set_plotting_format(\"paper\")  # input should be either \"presentation\" or \"paper\"\n",
    "\n",
    "fig, axes = plt.subplots(1, 2, figsize=(8, 3), sharex=True)\n",
    "\n",
    "\n",
    "# First subplot\n",
    "for index, model_name in enumerate(models_name):\n",
    "    time = sols[index][\"Time [h]\"].entries\n",
    "    voltage = sols[index][\"Terminal voltage [V]\"].entries\n",
    "    axes[0].plot(time, voltage, label=model_name)\n",
    "\n",
    "axes[0].legend()\n",
    "axes[0].set_xlabel(\"Time [h]\")\n",
    "axes[0].set_ylabel(\"Voltage [V]\")\n",
    "axes[0].text(2.5, 4.0, \"(a)\")\n",
    "\n",
    "# Set x-axis ticks and labels for the first subplot\n",
    "xticks = np.arange(0, 70, 10)\n",
    "axes[0].set_xticks(xticks)\n",
    "axes[0].set_xticklabels(xticks)\n",
    "\n",
    "# Set y-axis ticks for the first subplot\n",
    "yticks = np.arange(2.5, 5, 0.5)\n",
    "axes[0].set_yticks(yticks)\n",
    "\n",
    "# Second subplot\n",
    "t_max = max(sol[\"Time [s]\"].entries[-1] for sol in sols)\n",
    "t = np.linspace(0, t_max, 10000)\n",
    "\n",
    "for model_name in models_name[:-1]:\n",
    "    index = models_name.index(model_name)\n",
    "    error = sols[models_name.index(\"DFN\")][\"Terminal voltage [V]\"](t) - sols[index][\"Terminal voltage [V]\"](t)\n",
    "    axes[1].semilogy(t / 3600, np.abs(error), label=model_name)\n",
    "\n",
    "axes[1].legend()\n",
    "axes[1].set_xlabel(\"Time [h]\")\n",
    "axes[1].set_ylabel(\"Voltage error [V]\")\n",
    "axes[1].text(5, 1e-1, \"(b)\")\n",
    "\n",
    "# Set x-axis ticks and labels for the second subplot\n",
    "axes[1].set_xticks(xticks)\n",
    "axes[1].set_xticklabels(xticks)\n",
    "\n",
    "# Adjusting the number of ticks on the y-axis for the second subplot\n",
    "axes[1].yaxis.set_major_locator(ticker.LogLocator(base=10, numticks=4))\n",
    "\n",
    "plt.tight_layout()\n",
    "plt.savefig(\"figs/models_comparison.png\", dpi=300)"
   ]
  }
 ],
 "metadata": {
  "kernelspec": {
   "display_name": "venv",
   "language": "python",
   "name": "python3"
  },
  "language_info": {
   "codemirror_mode": {
    "name": "ipython",
    "version": 3
   },
   "file_extension": ".py",
   "mimetype": "text/x-python",
   "name": "python",
   "nbconvert_exporter": "python",
   "pygments_lexer": "ipython3",
   "version": "3.11.9"
  }
 },
 "nbformat": 4,
 "nbformat_minor": 2
}
