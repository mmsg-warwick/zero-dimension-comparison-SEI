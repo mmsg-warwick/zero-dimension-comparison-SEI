{
 "cells": [
  {
   "cell_type": "code",
   "execution_count": 4,
   "metadata": {},
   "outputs": [],
   "source": [
    "import pybamm\n",
    "import numpy as np\n",
    "\n",
    "\n",
    "no_cycles = 5\n",
    "exp = pybamm.Experiment(\n",
    "    [(\"Charge at C/20 until 4.2 V\",\n",
    "      \"Rest for 5 hours\",\n",
    "      \"Discharge at C/20 until 2.5 V\",\n",
    "      \"Rest for 5 hours\",\n",
    "      )]* no_cycles )\n",
    "#\n",
    "sei_options = [ \"ec reaction limited\", \"ec reaction limited\", \"ec reaction limited\",  \"electron-migration limited\",  \"interstitial-diffusion limited\", \"tunnelling limited\" , \"VonKolzenberg2020\" ]\n",
    "label_sei_options = [\"RL\", \"DL\", \"Mixed\", \"EM\", \"ID\", \"ET\", \"VK\"]  \n",
    "\n",
    "\n",
    "common_params = {\n",
    "    'Initial inner SEI thickness [m]': 5e-13,\n",
    "    'Initial outer SEI thickness [m]': 5e-13,\n",
    "    'Inner SEI electron conductivity [S.m-1]': 8.95e-15,\n",
    "    'SEI lithium ion conductivity [S.m-1]': 1.0e-7,\n",
    "    'Inner SEI lithium interstitial diffusivity [m2.s-1]': 1e-20,\n",
    "    'Lithium interstitial reference concentration [mol.m-3]': 1000,\n",
    "    'Tunneling barrier factor [m-1]': 1/2.0e-9,\n",
    "    'tunneling distance for electrons [m]': 0,\n",
    "    'SEI reaction exchange current density [A.m-2]': 0.0003,\n",
    "    \"SEI open-circuit potential [V]\": 0.0,\n",
    "    \n",
    "}\n",
    "\n",
    "\n",
    "k_sei =[ 7.0e-13, 1e-7, 1e-10,  7.0e-13,  7.0e-13,  7.0e-13,  7.0e-13]\n",
    "D_sol = [1e-14,1e-22, 0.8e-22,1e-14, 1e-14, 1e-14, 1e-14 ]\n",
    "inner_outer_proposionality= [0, 0, 0, 1, 0, 1, 1]\n",
    "params = []\n",
    "for i in range(0, len(sei_options)):\n",
    "  param=pybamm.ParameterValues('Chen2020')\n",
    "  param.update({**common_params, \n",
    "    'SEI kinetic rate constant [m.s-1]':k_sei[i],\n",
    "    \"EC diffusivity [m2.s-1]\": D_sol[i],\n",
    "    } ,check_already_exists=False\n",
    "              )\n",
    "  params.append(param)\n",
    "  \n",
    "  \n",
    "models = [pybamm.lithium_ion.SPM({\n",
    "                                  \"SEI\": sei_option}) for sei_option in sei_options]\n",
    "\n",
    "\n",
    "solver = pybamm.CasadiSolver(mode=\"safe\", extra_options_setup={\"max_num_steps\": 100000})\n",
    "\n",
    "sims = [pybamm.Simulation(model, parameter_values=params[index],\n",
    "                          experiment=exp, solver=solver) for index, model in enumerate(models)]\n",
    "sols = [sim.solve(initial_soc=0) for sim in sims]\n"
   ]
  },
  {
   "cell_type": "code",
   "execution_count": 5,
   "metadata": {},
   "outputs": [],
   "source": [
    "\n",
    "all_model_capacity_loss=[]\n",
    "for index, model in enumerate(models):\n",
    "    model_capacity_loss =[]\n",
    "    for cycle_index in range(0, 5):\n",
    "        time = sols[index].cycles[cycle_index][\"Time [s]\"].entries \n",
    "        ch_cacpacity_loss = sols[index].cycles[cycle_index]['Total capacity lost to side reactions [A.h]'](time[-1]) -\\\n",
    "                             sols[index].cycles[cycle_index]['Total capacity lost to side reactions [A.h]'](time[0])\n",
    "        model_capacity_loss.append(ch_cacpacity_loss )\n",
    "    all_model_capacity_loss.append( model_capacity_loss)"
   ]
  },
  {
   "cell_type": "code",
   "execution_count": 6,
   "metadata": {},
   "outputs": [
    {
     "data": {
      "image/png": "[encoded data removed]",
      "text/plain": [
       "<Figure size 600x400 with 1 Axes>"
      ]
     },
     "metadata": {},
     "output_type": "display_data"
    }
   ],
   "source": [
    "import matplotlib.pyplot as plt\n",
    "import scienceplots\n",
    "import matplotlib.ticker as ticker\n",
    "from style_figs import set_plotting_format\n",
    "\n",
    "set_plotting_format(\"paper\")  # input should be either \"presentation\" or \"paper\"\n",
    "\n",
    "models = [\"RL\", \"DL\", \"RD\", \"EM\", \"ID\", \"ET\", \"VK\"]\n",
    "cycles = ['1', '2', '3', '4', '5']\n",
    "\n",
    "fig, ax = plt.subplots(figsize=(6, 4))  # Adjust size as needed to match previous subplot size\n",
    "\n",
    "x = np.arange(len(models))\n",
    "colors = plt.cm.viridis(np.linspace(0, 1, len(cycles)))\n",
    "bar_width = 0.6\n",
    "\n",
    "bottom = np.zeros(len(models))\n",
    "for i, cycle in enumerate(cycles):\n",
    "    values = [model_data[i] for model_data in all_model_capacity_loss]\n",
    "    \n",
    "    # Normalize the data\n",
    "    totals = [sum(model_data) for model_data in all_model_capacity_loss]\n",
    "    normalized_values = [value / total * 100 for value, total in zip(values, totals)]\n",
    "    \n",
    "    ax.bar(x, normalized_values, bar_width, bottom=bottom, label=cycle, color=colors[i])\n",
    "    bottom += normalized_values\n",
    "\n",
    "ax.set_ylabel('Normalised Capacity Loss (%)')\n",
    "ax.set_xticks(x)\n",
    "ax.set_xticklabels(models, rotation=45, ha='right')\n",
    "\n",
    "\n",
    "legend = ax.legend( bbox_to_anchor=(0.5, -0.1),\n",
    "                        loc='upper center', ncol=len(cycles)+1,\n",
    "                        borderaxespad=0., columnspacing=0.8)\n",
    "fig.text(0.25, -.12, 'Cycle', ha='center', va='center', transform=ax.transAxes)\n",
    "\n",
    "\n",
    "\n",
    "plt.tight_layout()\n",
    "plt.subplots_adjust(bottom=0.2)  # Adjust to make room for the legend\n",
    "plt.savefig(\"figs/capacity_fade_5cycles.png\", dpi=300, bbox_inches='tight')\n",
    "plt.show()"
   ]
  },
  {
   "cell_type": "code",
   "execution_count": 7,
   "metadata": {},
   "outputs": [
    {
     "name": "stdout",
     "output_type": "stream",
     "text": [
      "[1] Joel A. E. Andersson, Joris Gillis, Greg Horn, James B. Rawlings, and Moritz Diehl. CasADi – A software framework for nonlinear optimization and optimal control. Mathematical Programming Computation, 11(1):1–36, 2019. doi:10.1007/s12532-018-0139-4.\n",
      "[2] Ferran Brosa Planella and W. Dhammika Widanage. Systematic derivation of a Single Particle Model with Electrolyte and Side Reactions (SPMe+SR) for degradation of lithium-ion batteries. Submitted for publication, ():, 2022. doi:.\n",
      "[3] Von DAG Bruggeman. Berechnung verschiedener physikalischer konstanten von heterogenen substanzen. i. dielektrizitätskonstanten und leitfähigkeiten der mischkörper aus isotropen substanzen. Annalen der physik, 416(7):636–664, 1935.\n",
      "[4] Chang-Hui Chen, Ferran Brosa Planella, Kieran O'Regan, Dominika Gastol, W. Dhammika Widanage, and Emma Kendrick. Development of Experimental Techniques for Parameterization of Multi-scale Lithium-ion Battery Models. Journal of The Electrochemical Society, 167(8):080534, 2020. doi:10.1149/1945-7111/ab9050.\n",
      "[5] Charles R. Harris, K. Jarrod Millman, Stéfan J. van der Walt, Ralf Gommers, Pauli Virtanen, David Cournapeau, Eric Wieser, Julian Taylor, Sebastian Berg, Nathaniel J. Smith, and others. Array programming with NumPy. Nature, 585(7825):357–362, 2020. doi:10.1038/s41586-020-2649-2.\n",
      "[6] Scott G. Marquis. Long-term degradation of lithium-ion batteries. PhD thesis, University of Oxford, 2020.\n",
      "[7] Scott G. Marquis, Valentin Sulzer, Robert Timms, Colin P. Please, and S. Jon Chapman. An asymptotic derivation of a single particle model with electrolyte. Journal of The Electrochemical Society, 166(15):A3693–A3706, 2019. doi:10.1149/2.0341915jes.\n",
      "[8] Peyman Mohtat, Suhak Lee, Jason B Siegel, and Anna G Stefanopoulou. Towards better estimability of electrode-specific state of health: decoding the cell expansion. Journal of Power Sources, 427:101–111, 2019.\n",
      "[9] Valentin Sulzer, Scott G. Marquis, Robert Timms, Martin Robinson, and S. Jon Chapman. Python Battery Mathematical Modelling (PyBaMM). Journal of Open Research Software, 9(1):14, 2021. doi:10.5334/jors.309.\n",
      "[10] Maureen Tang, Sida Lu, and John Newman. Experimental and theoretical investigation of solid-electrolyte-interphase formation mechanisms on glassy carbon. Journal of The Electrochemical Society, 159(11):A1775, 2012.\n",
      "[11] Pauli Virtanen, Ralf Gommers, Travis E. Oliphant, Matt Haberland, Tyler Reddy, David Cournapeau, Evgeni Burovski, Pearu Peterson, Warren Weckesser, Jonathan Bright, and others. SciPy 1.0: fundamental algorithms for scientific computing in Python. Nature Methods, 17(3):261–272, 2020. doi:10.1038/s41592-019-0686-2.\n",
      "[12] Lars von Kolzenberg, Arnulf Latz, and Birger Horstmann. Solid–electrolyte interphase during battery cycling: theory of growth regimes. ChemSusChem, 13(15):3901–3910, 2020.\n",
      "[13] Andrew Weng, Jason B Siegel, and Anna Stefanopoulou. Differential voltage analysis for battery manufacturing process control. arXiv preprint arXiv:2303.07088, 2023.\n",
      "[14] Xiao Guang Yang, Yongjun Leng, Guangsheng Zhang, Shanhai Ge, and Chao Yang Wang. Modeling of lithium plating induced aging of lithium-ion batteries: transition from linear to nonlinear aging. Journal of Power Sources, 360:28–40, 2017. doi:10.1016/j.jpowsour.2017.05.110.\n",
      "\n"
     ]
    }
   ],
   "source": [
    "pybamm.print_citations()"
   ]
  },
  {
   "cell_type": "code",
   "execution_count": null,
   "metadata": {},
   "outputs": [],
   "source": []
  }
 ],
 "metadata": {
  "kernelspec": {
   "display_name": "my_pybamm_env",
   "language": "python",
   "name": "python3"
  },
  "language_info": {
   "codemirror_mode": {
    "name": "ipython",
    "version": 3
   },
   "file_extension": ".py",
   "mimetype": "text/x-python",
   "name": "python",
   "nbconvert_exporter": "python",
   "pygments_lexer": "ipython3",
   "version": "3.11.9"
  }
 },
 "nbformat": 4,
 "nbformat_minor": 2
}
