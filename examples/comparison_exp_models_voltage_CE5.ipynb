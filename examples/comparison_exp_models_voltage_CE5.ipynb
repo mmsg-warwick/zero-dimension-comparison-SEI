{
 "cells": [
  {
   "cell_type": "markdown",
   "metadata": {},
   "source": [
    "# Comparison of Coulombic Efficiency Across SEI Models and Experimental Data\n",
    "\n",
    "> Reproduces Figure 7 from the [paper](https://iopscience.iop.org/article/10.1149/1945-7111/ad8548), comparing Coulombic efficiency during formation protocol charging/discharging for seven SEI models.\n",
    "\n",
    "**Note:** The experimental data referenced in the original paper is not currently available for public access."
   ]
  },
  {
   "cell_type": "markdown",
   "metadata": {},
   "source": [
    "As usual, first step is to import PyBaMM into the notebook:"
   ]
  },
  {
   "cell_type": "code",
   "execution_count": 1,
   "metadata": {},
   "outputs": [],
   "source": [
    "import pybamm"
   ]
  },
  {
   "cell_type": "markdown",
   "metadata": {},
   "source": [
    "> Define the charging/discharging protocol for formation cycling at low C-rate"
   ]
  },
  {
   "cell_type": "code",
   "execution_count": 2,
   "metadata": {},
   "outputs": [],
   "source": [
    "c_rate_formation = 20\n",
    "c_rate_cycling = 1\n",
    "\n",
    "formation_cycle = [\n",
    "    (f\"Charge at C/{c_rate_formation} until 4.2 V\",\n",
    "    \"Hold at 4.2 V until C/200\"),\n",
    "    (f\"Discharge at C/{c_rate_formation} until 2.5 V\",\n",
    "    \"Hold at 2.5 V until C/200\"),\n",
    "]\n",
    "\n",
    "cycling = [\n",
    "    f\"Charge at {c_rate_cycling}C until 4.2 V\",\n",
    "    f\"Discharge at {c_rate_cycling}C until 2.5 V\",\n",
    "]\n",
    "\n",
    "exp = pybamm.Experiment(\n",
    "    [\"Rest for 6 hour\"] +\n",
    "    formation_cycle * 2 +\n",
    "    cycling * 3\n",
    ")"
   ]
  },
  {
   "cell_type": "markdown",
   "metadata": {},
   "source": [
    "> Parameter set \"Chen2020\" from PyBaMM was used, with modifications or non exsistng parameetrs to key SEI parameters for all related SEI models"
   ]
  },
  {
   "cell_type": "code",
   "execution_count": 3,
   "metadata": {},
   "outputs": [],
   "source": [
    "sei_options = [ \"ec reaction limited\", \"ec reaction limited\", \"ec reaction limited\",  \"electron-migration limited\",  \"interstitial-diffusion limited\", \"tunnelling limited\" , \"VonKolzenberg2020\" ]\n",
    "\n",
    "label_sei_options = [\"RL\", \"DL\", \"Mixed\", \"EM\", \"ID\", \"ET\", \"VK\"]\n",
    "\n",
    "common_params = {\n",
    "    'Initial SEI thickness [m]': 1e-12,\n",
    "    'SEI electron conductivity [S.m-1]': 8.95e-15,\n",
    "    'SEI lithium ion conductivity [S.m-1]': 1.0e-7,\n",
    "    'SEI lithium interstitial diffusivity [m2.s-1]': 1e-20,\n",
    "    'Lithium interstitial reference concentration [mol.m-3]': 1000,\n",
    "    'Tunneling barrier factor [m-1]': 1/2.0e-9,\n",
    "    'Tunneling distance for electrons [m]': 0,\n",
    "    'SEI reaction exchange current density [A.m-2]': 0.0003,\n",
    "    'SEI open-circuit potential [V]': 0.4,\n",
    "\n",
    "}\n",
    "k_sei =[ 7.0e-13, 1e-7, 1e-10,  0,  0, 0, 0]\n",
    "D_sol = [1e-14,  1e-22, 0.8e-22,0,  0, 0, 0]\n",
    "params = []\n",
    "for i in range(len(sei_options)):\n",
    "  param=pybamm.ParameterValues('Chen2020')\n",
    "  param.update({**common_params,\n",
    "    'SEI kinetic rate constant [m.s-1]':k_sei[i],\n",
    "    \"EC diffusivity [m2.s-1]\": D_sol[i],\n",
    "    } ,check_already_exists=False\n",
    "              )\n",
    "  params.append(param)\n",
    "\n",
    "\n"
   ]
  },
  {
   "cell_type": "markdown",
   "metadata": {},
   "source": [
    "> Create seven SEI models to compare, each using SPM (Single Particle Model) with uniform particle profile and CasADi solver starting at 0% SOC, differing only in SEI options"
   ]
  },
  {
   "cell_type": "code",
   "execution_count": 4,
   "metadata": {},
   "outputs": [
    {
     "name": "stderr",
     "output_type": "stream",
     "text": [
      "At t = 232.697 and h = 0.000772349, the corrector convergence test failed repeatedly or with |h| = hmin.\n",
      "At t = 232.697 and h = 2.78573e-05, the corrector convergence test failed repeatedly or with |h| = hmin.\n",
      "At t = 232.711 and h = 0.000772439, the corrector convergence test failed repeatedly or with |h| = hmin.\n",
      "At t = 232.711 and h = 2.78041e-05, the corrector convergence test failed repeatedly or with |h| = hmin.\n",
      "At t = 232.706 and h = 0.000772426, the corrector convergence test failed repeatedly or with |h| = hmin.\n",
      "At t = 232.706 and h = 2.78232e-05, the corrector convergence test failed repeatedly or with |h| = hmin.\n"
     ]
    }
   ],
   "source": [
    "models = [pybamm.lithium_ion.SPM({\n",
    "                                  \"SEI\": sei_option}) for sei_option in sei_options]\n",
    "\n",
    "\n",
    "sims = [pybamm.Simulation(model, parameter_values=params[index],\n",
    "                          experiment=exp) for index, model in enumerate(models)]\n",
    "sols = [sim.solve(initial_soc=0) for sim in sims]"
   ]
  },
  {
   "cell_type": "markdown",
   "metadata": {},
   "source": [
    "### Extract Coulombic efficiency for five cycles from experimental data"
   ]
  },
  {
   "cell_type": "code",
   "execution_count": 5,
   "metadata": {},
   "outputs": [],
   "source": [
    "import numpy as np\n",
    "import pandas as pd\n",
    "\n",
    "df_formation = pd.read_csv(\"experimental/FC_05_formation_0.csv\")\n",
    "df_cycles= pd.read_csv(\"experimental/FC_05_cycling_1.csv\")\n",
    "\n",
    "mode_diff = df_formation[\"mode\"].diff()\n",
    "index_switch = mode_diff[mode_diff != 0].index.to_list()\n",
    "index_switch_formation = [0] + [i -1 for i in index_switch[1:]] + [len(df_formation[\"mode\"])-1]\n",
    "\n",
    "\n",
    "mode_diff = df_cycles[\"mode\"].diff()\n",
    "index_switch = mode_diff[mode_diff != 0].index.to_list()\n",
    "index_switch_cycles = [0] + [i -1 for i in index_switch[1:]] + [len(df_cycles[\"mode\"])-1]\n",
    "\n",
    "# Specify which cycle you want to include up to (e.g., up to the 3rd cycle)\n",
    "cycle_limit = 15  # Change this to include more or fewer cycles\n",
    "\n",
    "# Get the index for the end of the specified cycle\n",
    "end_index = index_switch_cycles[cycle_limit] if cycle_limit < len(index_switch_cycles) else index_switch_cycles[-1]\n",
    "\n",
    "# Slice df_cycles up to the specified cycle\n",
    "df_cycles_limited = df_cycles.iloc[:end_index + 1]\n",
    "\n",
    "# Combine df_formation and the limited df_cycles\n",
    "df_combined = pd.concat([df_formation, df_cycles_limited])\n",
    "\n",
    "\n",
    "\n",
    "A_cell = np.pi * 1.48 ** 2 / 4\n",
    "# capacity first charge\n",
    "capacity_1ch = (df_formation[\"(Q-Qo)/mA.h\"].iloc[index_switch_formation[2]] - df_formation[\"(Q-Qo)/mA.h\"].iloc[index_switch_formation[0]]) / A_cell\n",
    "\n",
    "# capacity first discharge\n",
    "capacity_1dch = (df_formation[\"(Q-Qo)/mA.h\"].iloc[index_switch_formation[3]] - df_formation[\"(Q-Qo)/mA.h\"].iloc[index_switch_formation[4]]) / A_cell\n",
    "\n",
    "# capacity second charge\n",
    "capacity_2ch = (df_formation[\"(Q-Qo)/mA.h\"].iloc[index_switch_formation[7]] - df_formation\n",
    "\n",
    "                [\"(Q-Qo)/mA.h\"].iloc[index_switch_formation[5]]) / A_cell\n",
    "# capacity second discharge\n",
    "capacity_2dch = (df_formation[\"(Q-Qo)/mA.h\"].iloc[index_switch_formation[8]] - df_formation[\"(Q-Qo)/mA.h\"].iloc[index_switch_formation[9]]) / A_cell\n",
    "\n",
    "# capacity third charge\n",
    "capacity_3ch = (df_cycles[\"(Q-Qo)/mA.h\"].iloc[index_switch_cycles[2]] - df_cycles[\"(Q-Qo)/mA.h\"].iloc[index_switch_cycles[0]]) / A_cell\n",
    "\n",
    "# capacity third discharge\n",
    "capacity_3dch = (df_cycles[\"(Q-Qo)/mA.h\"].iloc[index_switch_cycles[3]] - df_cycles[\"(Q-Qo)/mA.h\"].iloc[index_switch_cycles[4]]) / A_cell\n",
    "\n",
    "# capacity fourth charge\n",
    "capacity_4ch = (df_cycles[\"(Q-Qo)/mA.h\"].iloc[index_switch_cycles[7]] - df_cycles[\"(Q-Qo)/mA.h\"].iloc[index_switch_cycles[5]]) / A_cell\n",
    "\n",
    "# capacity fourth discharge\n",
    "capacity_4dch = (df_cycles[\"(Q-Qo)/mA.h\"].iloc[index_switch_cycles[8]] - df_cycles[\"(Q-Qo)/mA.h\"].iloc[index_switch_cycles[9]]) / A_cell\n",
    "\n",
    "# capacity fifth charge\n",
    "capacity_5ch = (df_cycles[\"(Q-Qo)/mA.h\"].iloc[index_switch_cycles[12]] - df_cycles[\"(Q-Qo)/mA.h\"].iloc[index_switch_cycles[10]]) / A_cell\n",
    "\n",
    "# capacity fifth discharge\n",
    "capacity_5dch = (df_cycles[\"(Q-Qo)/mA.h\"].iloc[index_switch_cycles[13]] - df_cycles[\"(Q-Qo)/mA.h\"].iloc[index_switch_cycles[14]]) / A_cell\n",
    "\n",
    "\n",
    "\n",
    "coulombic_efficiency_exp = np.array([capacity_1dch / capacity_1ch, capacity_2dch / capacity_2ch, capacity_3dch / capacity_3ch, capacity_4dch / capacity_4ch, capacity_5dch / capacity_5ch])\n",
    "capacity_loss_exp = np.array([capacity_1ch - capacity_1dch , capacity_1dch- capacity_2dch , capacity_2dch - capacity_3dch, capacity_4dch - capacity_3dch , capacity_5dch - capacity_4dch ])\n",
    "\n"
   ]
  },
  {
   "cell_type": "markdown",
   "metadata": {},
   "source": [
    "### Extract Coulombic efficiency for five cycles from numerical data"
   ]
  },
  {
   "cell_type": "code",
   "execution_count": 6,
   "metadata": {},
   "outputs": [],
   "source": [
    "start_cycle = 2  # or whatever cycle number you want to start from\n",
    "dch_cacpacity= []\n",
    "ch_cacpacity= []\n",
    "\n",
    "\n",
    "all_coulombic_efficiencies = []\n",
    "for index, _model in enumerate(models):\n",
    "    coulombic_efficiency_models = []\n",
    "    for cycle_index in range(start_cycle - 1, len(sols[index].cycles)-1, 2):\n",
    "        time_ch = sols[index].cycles[cycle_index][\"Time [s]\"].data\n",
    "        time_dch = sols[index].cycles[cycle_index + 1][\"Time [s]\"].data\n",
    "\n",
    "        ch_capacity = sols[index].cycles[cycle_index]['Throughput capacity [A.h]'](time_ch[-1]) - sols[index].cycles[cycle_index]['Throughput capacity [A.h]'](time_ch[0])\n",
    "        dch_capacity = sols[index].cycles[cycle_index + 1]['Throughput capacity [A.h]'](time_dch[-1]) - sols[index].cycles[cycle_index + 1]['Throughput capacity [A.h]'](time_dch[0])\n",
    "        coulombic_efficiency_models.append(dch_capacity / ch_capacity)\n",
    "    all_coulombic_efficiencies.append(coulombic_efficiency_models)\n",
    "\n",
    "\n",
    "all_coulombic_efficiencies.append(coulombic_efficiency_exp)\n",
    "\n"
   ]
  },
  {
   "cell_type": "markdown",
   "metadata": {},
   "source": [
    "### Create two-panel figure: voltage profiles (expermintal data) and Coulombic efficiency comparison (expermintal and numerical data)"
   ]
  },
  {
   "cell_type": "code",
   "execution_count": 7,
   "metadata": {},
   "outputs": [
    {
     "data": {
      "image/png": "[encoded data removed]",
      "text/plain": [
       "<Figure size 800x300 with 3 Axes>"
      ]
     },
     "metadata": {},
     "output_type": "display_data"
    }
   ],
   "source": [
    "import matplotlib.pyplot as plt\n",
    "from mpl_toolkits.axes_grid1.inset_locator import inset_axes\n",
    "from style_figs import set_plotting_format\n",
    "\n",
    "set_plotting_format(\"paper\")  # input should be either \"presentation\" or \"paper\"\n",
    "\n",
    "models = [\"RL\", \"DL\", \"RD\", \"EM\", \"ID\", \"ET\", \"VK\", \"Exp\"]\n",
    "cycles = [1, 2, 3, 4, 5]\n",
    "\n",
    "fig, axes = plt.subplots(1, 2, figsize=(8, 3))\n",
    "\n",
    "# Use a colorblind-friendly color palette\n",
    "colors = plt.cm.Set2(np.linspace(0, 1, len(models)))\n",
    "markers = ['o', 's', 'D', '^', 'v', '<', '>', 'p']\n",
    "\n",
    "# Plot Coulombic efficiency per cycle for all models\n",
    "for i, (model, color, marker) in enumerate(zip(models, colors, markers)):\n",
    "    values = [ce * 100 for ce in all_coulombic_efficiencies[i]]\n",
    "    axes[1].scatter(cycles, values, label=model, color=color, marker=marker, s=60, edgecolors='black', linewidth=0.5)\n",
    "\n",
    "axes[1].set_ylabel('Coulombic Efficiency (%)')\n",
    "axes[1].set_xlabel('Cycle')\n",
    "axes[1].set_xticks(cycles)\n",
    "axes[1].legend(title='Models', bbox_to_anchor=(1.05, 1), loc='upper left', frameon=True, edgecolor='black')\n",
    "\n",
    "# Set y-axis limits to focus on the upper part\n",
    "y_min = min([min(model_data) * 100 for model_data in all_coulombic_efficiencies])\n",
    "y_min = max(y_min - 1, 80)  # Set lower limit to 80% or slightly below the minimum value\n",
    "axes[1].set_ylim(y_min, 100.5)\n",
    "\n",
    "# Create an inset axes for the zoomed view\n",
    "axins = inset_axes(axes[1], width=\"40%\", height=\"40%\", loc='lower center',\n",
    "                   bbox_to_anchor=(0.1, 0.1, 1, 1), bbox_transform=axes[1].transAxes)\n",
    "\n",
    "# Plot the zoomed view for the first two cycles (excluding experimental data)\n",
    "for i, (_model, color, marker) in enumerate(zip(models[:-1], colors[:-1], markers[:-1])):\n",
    "    values = [ce * 100 for ce in all_coulombic_efficiencies[i][:2]]\n",
    "    axins.scatter([1, 2], values, color=color, marker=marker, s=40, edgecolors='black', linewidth=0.5)\n",
    "\n",
    "axins.set_xlim(0.5, 2.5)\n",
    "axins.set_ylim(99.85, 100.0)  # Adjust these limits as needed\n",
    "axins.set_xticks([1, 2])\n",
    "axins.set_yticks([99.85, 100.0])\n",
    "axins.set_xticklabels([1, 2])\n",
    "\n",
    "\n",
    "# Plot for the first subplot\n",
    "axes[0].plot(df_combined[\"time/s\"]/3600, df_combined[\"Ecell/V\"], color='navy')\n",
    "axes[0].set_xlabel(\"Time [h]\")\n",
    "axes[0].set_ylabel(\"Voltage [V]\")\n",
    "\n",
    "axes[0].text(0.2, 0.4, '(a)', transform=axes[0].transAxes, va='top', ha='right')\n",
    "axes[1].text(0.2, 0.4, '(b)', transform=axes[1].transAxes, va='top', ha='right')\n",
    "\n",
    "plt.tight_layout()\n",
    "plt.savefig(\"figs/exp_models_voltage_CE.png\", dpi=300, bbox_inches='tight')\n",
    "plt.show()"
   ]
  }
 ],
 "metadata": {
  "kernelspec": {
   "display_name": "venv",
   "language": "python",
   "name": "python3"
  },
  "language_info": {
   "codemirror_mode": {
    "name": "ipython",
    "version": 3
   },
   "file_extension": ".py",
   "mimetype": "text/x-python",
   "name": "python",
   "nbconvert_exporter": "python",
   "pygments_lexer": "ipython3",
   "version": "3.11.9"
  }
 },
 "nbformat": 4,
 "nbformat_minor": 2
}
