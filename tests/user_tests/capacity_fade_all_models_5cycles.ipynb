{
 "cells": [
  {
   "cell_type": "code",
   "execution_count": 4,
   "metadata": {},
   "outputs": [
    {
     "name": "stdout",
     "output_type": "stream",
     "text": [
      "/home/kawamanmi/Projects/PyBaMM/src\n"
     ]
    }
   ],
   "source": [
    "%cd /home/kawamanmi/Projects/PyBaMM/src\n",
    "import pybamm\n",
    "import numpy as np\n",
    "\n",
    "c_rate_formation = 20  # Assuming this is defined elsewhere\n",
    "c_rate_cycling = 1/20\n",
    "\n",
    "\n",
    "formation_cycle = [\n",
    "    (f\"Charge at C/{c_rate_formation} until 4.2 V\"),\n",
    "    (f\"Discharge at C/{c_rate_formation} until 2.5 V\"),\n",
    "]\n",
    "\n",
    "cycling = [\n",
    "    f\"Charge at {c_rate_cycling}C until 4.2 V\",\n",
    "    f\"Discharge at {c_rate_cycling}C until 2.5 V\",\n",
    "]\n",
    "\n",
    "exp = pybamm.Experiment(\n",
    "    formation_cycle * 2 +\n",
    "    cycling * 3\n",
    ")\n",
    "\n",
    "#\n",
    "sei_options = [ \"ec reaction limited\", \"ec reaction limited\", \"ec reaction limited\",  \"electron-migration limited\",  \"interstitial-diffusion limited\", \"tunnelling limited\" , \"Kolzenberg2020\" ]\n",
    "label_sei_options = [\"RL\", \"DL\", \"Mixed\", \"EM\", \"ID\", \"ET\", \"VK\"]  \n",
    "\n",
    "\n",
    "common_params = {\n",
    "    'Initial inner SEI thickness [m]': 5e-13,\n",
    "    'Initial outer SEI thickness [m]': 5e-13,\n",
    "    \"EC initial concentration in electrolyte [mol.m-3]\": 4541.0,\n",
    "    'Inner SEI electron conductivity [S.m-1]': 8.95e-15,\n",
    "    'SEI lithium ion conductivity [S.m-1]': 1.0e-7,\n",
    "    'Inner SEI lithium interstitial diffusivity [m2.s-1]': 1e-20,\n",
    "    'Lithium interstitial reference concentration [mol.m-3]': 1000,\n",
    "    'Tunneling barrier factor [m-1]': 1/2.0e-9,\n",
    "    'tunneling distance for electrons [m]': 0,\n",
    "    'SEI reaction exchange current density [A.m-2]': 0.0003,\n",
    "    \"SEI open-circuit potential [V]\": 0.0,\n",
    "}\n",
    "k_sei =[ 7.0e-13, 1e-7, 1e-10, 1, 1, 7.0e-13, 1]\n",
    "D_sol = [1e-14,1e-22, 0.8e-22, 1, 1, 1e-14, 1 ]\n",
    "inner_outer_proposionality= [0, 0, 0, 1, 0, 1, 1]\n",
    "params = []\n",
    "for i in range(0, len(k_sei)):\n",
    "  param=pybamm.ParameterValues('Chen2020')\n",
    "  param.update({**common_params, \n",
    "    'SEI kinetic rate constant [m.s-1]':k_sei[i],\n",
    "    'Outer SEI solvent diffusivity [m2.s-1]':D_sol[i],      \n",
    "    \"EC diffusivity [m2.s-1]\": D_sol[i],\n",
    "    'Inner SEI reaction proportion': inner_outer_proposionality[i],\n",
    "    } ,check_already_exists=False\n",
    "              )\n",
    "  params.append(param)\n",
    "  \n",
    "  \n",
    "models = [pybamm.lithium_ion.SPM({\n",
    "                                  \"SEI\": sei_option}) for sei_option in sei_options]\n",
    "\n",
    "\n",
    "solver = pybamm.CasadiSolver(mode=\"safe\", extra_options_setup={\"max_num_steps\": 100000})\n",
    "\n",
    "sims = [pybamm.Simulation(model, parameter_values=params[index],\n",
    "                          experiment=exp, solver=solver) for index, model in enumerate(models)]\n",
    "sols = [sim.solve(initial_soc=0) for sim in sims]\n"
   ]
  },
  {
   "cell_type": "code",
   "execution_count": 5,
   "metadata": {},
   "outputs": [
    {
     "name": "stdout",
     "output_type": "stream",
     "text": [
      "/home/kawamanmi/Projects/formation/zero-dimension-comparison-SEI/tests/user_tests\n"
     ]
    }
   ],
   "source": [
    "%cd /home/kawamanmi/Projects/formation/zero-dimension-comparison-SEI/tests/user_tests\n",
    "import numpy as np\n",
    "\n",
    "start_cycle = 1  # or whatever cycle number you want to start from\n",
    "\n",
    "\n",
    "all_model_capacity_loss=[]\n",
    "for index, model in enumerate(models):\n",
    "    model_capacity_loss =[]\n",
    "    for cycle_index in range(start_cycle - 1, len(sols[index].cycles)-1, 2):\n",
    "        time_ch = sols[index].cycles[cycle_index][\"Time [s]\"].entries \n",
    "        time_dch = sols[index].cycles[cycle_index + 1][\"Time [s]\"].entries\n",
    "        ch_cacpacity_loss = sols[index].cycles[cycle_index]['Total capacity lost to side reactions [A.h]'](time_ch[-1]) - \\\n",
    "                            sols[index].cycles[cycle_index]['Total capacity lost to side reactions [A.h]'](time_ch[0])\n",
    "        dch_cacpacity_loss = sols[index].cycles[cycle_index + 1]['Total capacity lost to side reactions [A.h]'](time_dch[-1]) - \\\n",
    "                            sols[index].cycles[cycle_index + 1]['Total capacity lost to side reactions [A.h]'](time_dch[0]) \n",
    "        model_capacity_loss.append((ch_cacpacity_loss + dch_cacpacity_loss))\n",
    "    all_model_capacity_loss.append( model_capacity_loss)"
   ]
  },
  {
   "cell_type": "code",
   "execution_count": 6,
   "metadata": {},
   "outputs": [
    {
     "data": {
      "image/png": "[encoded data removed]",
      "text/plain": [
       "<Figure size 600x400 with 1 Axes>"
      ]
     },
     "metadata": {},
     "output_type": "display_data"
    }
   ],
   "source": [
    "import matplotlib.pyplot as plt\n",
    "import scienceplots\n",
    "import matplotlib.ticker as ticker\n",
    "import numpy as np\n",
    "from style_figs import set_plotting_format\n",
    "\n",
    "set_plotting_format(\"paper\")  # input should be either \"presentation\" or \"paper\"\n",
    "\n",
    "models = [\"RL\", \"DL\", \"RD\", \"EM\", \"ID\", \"ET\", \"VK\"]\n",
    "cycles = ['1', '2', '3', '4', '5']\n",
    "\n",
    "fig, ax = plt.subplots(figsize=(6, 4))  # Adjust size as needed to match previous subplot size\n",
    "\n",
    "x = np.arange(len(models))\n",
    "colors = plt.cm.viridis(np.linspace(0, 1, len(cycles)))\n",
    "bar_width = 0.6\n",
    "\n",
    "bottom = np.zeros(len(models))\n",
    "for i, cycle in enumerate(cycles):\n",
    "    values = [model_data[i] for model_data in all_model_capacity_loss]\n",
    "    \n",
    "    # Normalize the data\n",
    "    totals = [sum(model_data) for model_data in all_model_capacity_loss]\n",
    "    normalized_values = [value / total * 100 for value, total in zip(values, totals)]\n",
    "    \n",
    "    ax.bar(x, normalized_values, bar_width, bottom=bottom, label=cycle, color=colors[i])\n",
    "    bottom += normalized_values\n",
    "\n",
    "ax.set_ylabel('Normalised Capacity Loss (%)')\n",
    "ax.set_xticks(x)\n",
    "ax.set_xticklabels(models, rotation=45, ha='right')\n",
    "\n",
    "\n",
    "legend = ax.legend( bbox_to_anchor=(0.5, -0.1),\n",
    "                        loc='upper center', ncol=len(cycles)+1,\n",
    "                        borderaxespad=0., columnspacing=0.8)\n",
    "fig.text(0.25, -.12, 'Cycle', ha='center', va='center', transform=ax.transAxes)\n",
    "\n",
    "\n",
    "\n",
    "plt.tight_layout()\n",
    "plt.subplots_adjust(bottom=0.2)  # Adjust to make room for the legend\n",
    "plt.savefig(\"figs/capacity_fade_5cycles.png\", dpi=300, bbox_inches='tight')\n",
    "plt.show()"
   ]
  },
  {
   "cell_type": "code",
   "execution_count": null,
   "metadata": {},
   "outputs": [],
   "source": []
  }
 ],
 "metadata": {
  "kernelspec": {
   "display_name": "my_pybamm_env",
   "language": "python",
   "name": "python3"
  },
  "language_info": {
   "codemirror_mode": {
    "name": "ipython",
    "version": 3
   },
   "file_extension": ".py",
   "mimetype": "text/x-python",
   "name": "python",
   "nbconvert_exporter": "python",
   "pygments_lexer": "ipython3",
   "version": "3.11.9"
  }
 },
 "nbformat": 4,
 "nbformat_minor": 2
}
